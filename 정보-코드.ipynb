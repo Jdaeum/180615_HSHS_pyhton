{
 "cells": [
  {
   "cell_type": "code",
   "execution_count": 21,
   "metadata": {
    "scrolled": true
   },
   "outputs": [
    {
     "name": "stdout",
     "output_type": "stream",
     "text": [
      "원하는 지역을 입력하세요 : 홍제\n",
      "해당 지역은 노인의 비율이 약 16.66% 으로 고령사회 입니다.\n",
      "해당 지역의 노인의 비율은 노인의 비율이 최대인 지역과 약 52.57% 차이가 납니다.\n",
      "해당 지역의 노인의 비율은 노인의 비율이 최소인 지역과 약 15.29% 차이가 납니다.\n",
      "노인의 비율이 가장 큰 지역은 전라남도 고흥군 도양읍소록출장소(4677025400)으로 노인의 비율이69.23% 입니다.\n",
      "노인의 비율이 가장 작은 지역은충청남도 계룡시 신도안면(4425033000)으로 노인의 비율이1.37% 입니다.\n"
     ]
    }
   ],
   "source": [
    "import csv\n",
    "f = open('읍면동연령별.csv')\n",
    "sigma_old = 0\n",
    "sigma_all = 0\n",
    "data = csv.reader(f)\n",
    "next(data)\n",
    "data = list(data)\n",
    "area = input(\"원하는 지역을 입력하세요 : \")\n",
    "for row in data :\n",
    "    if area in row[0] :\n",
    "        for i in range(68,len(row)) : \n",
    "            sigma_old = sigma_old + int(row[i])\n",
    "        for j in range(3,len(row)) :\n",
    "            sigma_all = sigma_all + int(row[j])\n",
    "        break\n",
    "\n",
    "result = round(sigma_old/sigma_all*100, 2)\n",
    "if result >= 7 and result < 14 :\n",
    "    print('해당 지역은 노인의 비율이 약 '+ str(result) +'% 으로 고령화사회 입니다.')\n",
    "elif result >=14 and result < 20 :\n",
    "    print('해당 지역은 노인의 비율이 약 '+ str(result) +'% 으로 고령사회 입니다.')\n",
    "elif result >=20 :\n",
    "    print('해당 지역은 노인의 비율이 약 '+ str(result) +'% 으로 초고령사회 입니다.')\n",
    "else :\n",
    "    print('해당 지역은 노인의 비율이 약 '+ str(result) +'% 으로 정상 입니다.')\n",
    "\n",
    "result2 = 0\n",
    "max = 0\n",
    "min = 0\n",
    "sigma_old2 = 0\n",
    "sigma_all2 = 0\n",
    "for row in data:\n",
    "    for i in range(68,len(row)) :\n",
    "        sigma_old2 = sigma_old2 + int(row[i])\n",
    "    for j in range(3,len(row)) :\n",
    "        sigma_all2 = sigma_all2 + int(row[j])\n",
    "    result2 = round(sigma_old2/sigma_all2*100, 2)\n",
    "    sigma_old2 = 0\n",
    "    sigma_all2 = 0\n",
    "    if result2 >= max :\n",
    "        max = result2\n",
    "        maxname = row[0]\n",
    "    if min == 0 :\n",
    "        min  = result2\n",
    "    if result2 <= min : \n",
    "        min = result2\n",
    "        minname = row[0]\n",
    "maxdev = max - result\n",
    "mindev = result - min\n",
    "print('해당 지역의 노인의 비율은 노인의 비율이 최대인 지역과 약 ' + str(round(maxdev, 2)) + '% 차이가 납니다.')\n",
    "print('해당 지역의 노인의 비율은 노인의 비율이 최소인 지역과 약 ' + str(round(mindev, 2)) + '% 차이가 납니다.')\n",
    "print('노인의 비율이 가장 큰 지역은 ' + maxname + '으로 노인의 비율이' + str(max) + '% 입니다.')\n",
    "print('노인의 비율이 가장 작은 지역은' + minname + '으로 노인의 비율이' + str(min) + '% 입니다.')"
   ]
  },
  {
   "cell_type": "code",
   "execution_count": null,
   "metadata": {},
   "outputs": [],
   "source": []
  }
 ],
 "metadata": {
  "kernelspec": {
   "display_name": "Python 3",
   "language": "python",
   "name": "python3"
  },
  "language_info": {
   "codemirror_mode": {
    "name": "ipython",
    "version": 3
   },
   "file_extension": ".py",
   "mimetype": "text/x-python",
   "name": "python",
   "nbconvert_exporter": "python",
   "pygments_lexer": "ipython3",
   "version": "3.6.4"
  }
 },
 "nbformat": 4,
 "nbformat_minor": 2
}
